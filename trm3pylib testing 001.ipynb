{
 "cells": [
  {
   "cell_type": "code",
   "execution_count": 12,
   "metadata": {},
   "outputs": [],
   "source": [
    "%matplotlib inline\n",
    "import importlib\n",
    "import codecs\n",
    "import os\n",
    "import pandas\n",
    "import numpy \n",
    "import datetime as dt\n",
    "import scipy.stats\n",
    "import pandasql.sqldf\n",
    "import matplotlib.axis as axis\n",
    "import matplotlib.pyplot as plt\n",
    "from IPython.core.display import display, HTML\n",
    "from IPython.core.interactiveshell import InteractiveShell\n",
    "InteractiveShell.ast_node_interactivity = \"all\"\n",
    "pandas.options.display.max_rows = 200\n",
    "pandas.options.display.max_columns = 50\n",
    "pandas.options.display.width = 300\n",
    "pandas.set_option('display.float_format', lambda x: '%.8f' % x)\n",
    "import trm3\n",
    "import trm3.impute\n",
    "import trm3.utility\n",
    "\n",
    "input_file = r\"D:\\projects\\Python36-Package-Development\\trm3pylib\\data-csv\\zillow_train.csv\"\n",
    "with codecs.open(input_file, 'r', encoding='utf-8') as f:\n",
    "   df= pandas.read_csv(f, sep=\",\", header=0, low_memory=False, parse_dates=True)\n",
    "\n",
    "df[\"datecol\"] = pandas.to_datetime(df.transactiondate)\n",
    "df[\"interval\"] = df[\"datecol\"] - dt.datetime.now().date()\n",
    "df[\"fips\"].fillna(value=df[\"fips\"].mode().tolist()[0], inplace=True)\n"
   ]
  },
  {
   "cell_type": "code",
   "execution_count": 4,
   "metadata": {},
   "outputs": [
    {
     "data": {
      "text/plain": [
       "<module 'trm3' from 'D:\\\\projects\\\\Python36-Package-Development\\\\trm3pylib\\\\trm3\\\\__init__.py'>"
      ]
     },
     "execution_count": 4,
     "metadata": {},
     "output_type": "execute_result"
    },
    {
     "data": {
      "text/plain": [
       "<module 'trm3.impute' from 'D:\\\\projects\\\\Python36-Package-Development\\\\trm3pylib\\\\trm3\\\\impute.py'>"
      ]
     },
     "execution_count": 4,
     "metadata": {},
     "output_type": "execute_result"
    },
    {
     "data": {
      "text/plain": [
       "<module 'trm3.utility' from 'D:\\\\projects\\\\Python36-Package-Development\\\\trm3pylib\\\\trm3\\\\utility.py'>"
      ]
     },
     "execution_count": 4,
     "metadata": {},
     "output_type": "execute_result"
    }
   ],
   "source": [
    "importlib.reload(trm3)\n",
    "importlib.reload(trm3.impute)\n",
    "importlib.reload(trm3.utility)"
   ]
  },
  {
   "cell_type": "code",
   "execution_count": null,
   "metadata": {
    "collapsed": true,
    "scrolled": true
   },
   "outputs": [],
   "source": [
    "trm3.utility.get_size(df, unit=\"MB\")\n",
    "\n",
    "# x = trm3.utility.MemoryUnits.GB\n",
    "# x.abbreviation"
   ]
  },
  {
   "cell_type": "code",
   "execution_count": null,
   "metadata": {
    "collapsed": true
   },
   "outputs": [],
   "source": [
    "def autolabel(rects, ax, percentages=False):\n",
    "    # Get y-axis height to calculate label position from.\n",
    "    (y_bottom, y_top) = ax.get_ylim()\n",
    "    y_height = y_top - y_bottom\n",
    "\n",
    "    for rect in rects:\n",
    "        height = rect.get_height()\n",
    "\n",
    "        # Fraction of axis height taken up by this rectangle\n",
    "        p_height = (height / y_height)\n",
    "\n",
    "        # If we can fit the label above the column, do that;\n",
    "        # otherwise, put it inside the column.\n",
    "        if p_height > 0.95: # arbitrary; 95% looked good to me.\n",
    "            label_position = height - (y_height * 0.05)\n",
    "        else:\n",
    "            label_position = height + (y_height * 0.01)\n",
    "        \n",
    "        height = 100*height\n",
    "        ax.text(rect.get_x() + rect.get_width()/2, label_position,\n",
    "                '%.1f %%' % height,\n",
    "                ha='center', va='bottom')\n",
    " "
   ]
  },
  {
   "cell_type": "code",
   "execution_count": null,
   "metadata": {
    "collapsed": true,
    "scrolled": false
   },
   "outputs": [],
   "source": [
    "col=\"calculatedfinishedsquarefeet\"\n",
    "plt.rcParams[\"figure.figsize\"] = [12, 9]\n",
    "nomiss = (df[col].notnull()) & (df[col] <= 5000)\n",
    "histogram = plt.figure()\n",
    "weights = numpy.ones_like(df.loc[nomiss,col])/float(len(df.loc[:,col]))\n",
    "n, bins, patches = plt.hist(df.loc[nomiss,col], alpha=.5, facecolor='green', \n",
    "                            edgecolor='black', linewidth=1.2, weights=weights)\n",
    "plt.xlabel(col)\n",
    "plt.ylabel('# of Observations')\n",
    "autolabel(patches, plt.gca(), percentages=True)\n",
    "plt.show()\n",
    "plt.close()\n"
   ]
  },
  {
   "cell_type": "code",
   "execution_count": null,
   "metadata": {
    "collapsed": true
   },
   "outputs": [],
   "source": [
    "df.bedroomcnt.hist()"
   ]
  },
  {
   "cell_type": "code",
   "execution_count": 48,
   "metadata": {
    "scrolled": true
   },
   "outputs": [
    {
     "data": {
      "text/plain": [
       "<module 'trm3.impute' from 'D:\\\\projects\\\\Python36-Package-Development\\\\trm3pylib\\\\trm3\\\\impute.py'>"
      ]
     },
     "execution_count": 48,
     "metadata": {},
     "output_type": "execute_result"
    },
    {
     "name": "stdout",
     "output_type": "stream",
     "text": [
      "[0001] propertycountylandusecode - Processed in 0.9303874969482422 seconds.\n",
      "       dtype=Nominal(object)  NaN=0.0  Unique=77  Mode=0100\n",
      " \n",
      " \n",
      "Imputer.fit() finished in 0.942899227142334 seconds.\n",
      "1 variables processed.\n"
     ]
    }
   ],
   "source": [
    "importlib.reload(trm3.impute)    \n",
    "my_imputer = trm3.impute.Imputer(train_df = df,\n",
    "                                 test_df = None,\n",
    "#                                  columns = [x for x in df.columns.tolist() if x[0:3] != \"dv_\" and x !=\"fips\"],\n",
    "                                 columns = [\"propertycountylandusecode\"],\n",
    "                                 groupby = [\"fips\"],\n",
    "                                 label = \"dv_avg_error\",\n",
    "                                 method = 4,\n",
    "                                 mode_fallback_distinct_values = 3,\n",
    "                                 mean_label_min_obs = .005,\n",
    "                                 mean_label_bins = 10,\n",
    "                                 nominal_new_category_min_obs = .01,\n",
    "                                 missing_indicators = False,\n",
    "                                 missing_indicators_min_obs = .01,\n",
    "                                 model_x_columns = None,\n",
    "                                 verbose=True\n",
    "                                )\n",
    "\n",
    "my_imputer_rules = my_imputer.fit()\n",
    "my_imputer_rules.impute(impute_df=df, inplace=True, verbose=False, include_columns=[\"propertycountylandusecode\"])\n"
   ]
  },
  {
   "cell_type": "code",
   "execution_count": 46,
   "metadata": {
    "scrolled": false
   },
   "outputs": [
    {
     "data": {
      "text/plain": [
       "0"
      ]
     },
     "execution_count": 46,
     "metadata": {},
     "output_type": "execute_result"
    }
   ],
   "source": [
    "df[\"propertycountylandusecode\"].isnull().sum()"
   ]
  },
  {
   "cell_type": "code",
   "execution_count": null,
   "metadata": {
    "collapsed": true
   },
   "outputs": [],
   "source": [
    "'{0:,}'.format(2999887766)"
   ]
  },
  {
   "cell_type": "code",
   "execution_count": null,
   "metadata": {
    "collapsed": true
   },
   "outputs": [],
   "source": []
  },
  {
   "cell_type": "code",
   "execution_count": null,
   "metadata": {
    "collapsed": true
   },
   "outputs": [],
   "source": [
    "cols = df.columns.tolist()\n",
    "cols.sort()"
   ]
  },
  {
   "cell_type": "code",
   "execution_count": null,
   "metadata": {
    "collapsed": true
   },
   "outputs": [],
   "source": [
    "sdf = trm3.utility.df_contents(df, display_html_output=True)\n",
    "#                   excel_filename=r\"D:\\projects\\Python36-Package-Development\\temp\\test01.xlsx\",\n",
    "#                   excel_sheet_name=\"DF Summary\")"
   ]
  },
  {
   "cell_type": "code",
   "execution_count": null,
   "metadata": {
    "collapsed": true
   },
   "outputs": [],
   "source": [
    "x=df.columns.tolist()\n",
    "x.insert(0,'__df_column_order__')\n",
    "x"
   ]
  },
  {
   "cell_type": "code",
   "execution_count": 32,
   "metadata": {
    "scrolled": true
   },
   "outputs": [
    {
     "ename": "NameError",
     "evalue": "name 'dtypes' is not defined",
     "output_type": "error",
     "traceback": [
      "\u001b[1;31m---------------------------------------------------------------------------\u001b[0m",
      "\u001b[1;31mNameError\u001b[0m                                 Traceback (most recent call last)",
      "\u001b[1;32m<ipython-input-32-afd7d7655d43>\u001b[0m in \u001b[0;36m<module>\u001b[1;34m()\u001b[0m\n\u001b[0;32m      1\u001b[0m \u001b[0mw\u001b[0m\u001b[1;33m=\u001b[0m\u001b[0mtrm3\u001b[0m\u001b[1;33m.\u001b[0m\u001b[0mutility\u001b[0m\u001b[1;33m.\u001b[0m\u001b[0mdf_contents\u001b[0m\u001b[1;33m(\u001b[0m\u001b[0mdf\u001b[0m\u001b[1;33m,\u001b[0m \u001b[0mdisplay_html_output\u001b[0m\u001b[1;33m=\u001b[0m\u001b[1;32mFalse\u001b[0m\u001b[1;33m)\u001b[0m\u001b[1;33m\u001b[0m\u001b[0m\n\u001b[0;32m      2\u001b[0m \u001b[1;31m# w.query(column_dtype=='object')\u001b[0m\u001b[1;33m\u001b[0m\u001b[1;33m\u001b[0m\u001b[0m\n\u001b[1;32m----> 3\u001b[1;33m \u001b[0mdtypes\u001b[0m\u001b[1;33m\u001b[0m\u001b[0m\n\u001b[0m",
      "\u001b[1;31mNameError\u001b[0m: name 'dtypes' is not defined"
     ]
    }
   ],
   "source": [
    "w=trm3.utility.df_contents(df, display_html_output=False)\n",
    "\n"
   ]
  },
  {
   "cell_type": "code",
   "execution_count": 35,
   "metadata": {},
   "outputs": [
    {
     "data": {
      "text/html": [
       "<div>\n",
       "<style>\n",
       "    .dataframe thead tr:only-child th {\n",
       "        text-align: right;\n",
       "    }\n",
       "\n",
       "    .dataframe thead th {\n",
       "        text-align: left;\n",
       "    }\n",
       "\n",
       "    .dataframe tbody tr th {\n",
       "        vertical-align: top;\n",
       "    }\n",
       "</style>\n",
       "<table border=\"1\" class=\"dataframe\">\n",
       "  <thead>\n",
       "    <tr style=\"text-align: right;\">\n",
       "      <th></th>\n",
       "      <th>column_dtype</th>\n",
       "      <th>n_missing</th>\n",
       "      <th>n_non_missing</th>\n",
       "      <th>n_boolean</th>\n",
       "      <th>n_float</th>\n",
       "      <th>n_integer</th>\n",
       "      <th>n_string</th>\n",
       "      <th>n_datetime</th>\n",
       "      <th>n_timedelta</th>\n",
       "      <th>n_unique_values</th>\n",
       "      <th>mode</th>\n",
       "      <th>mean</th>\n",
       "      <th>stdev</th>\n",
       "      <th>min</th>\n",
       "      <th>p1</th>\n",
       "      <th>p5</th>\n",
       "      <th>p10</th>\n",
       "      <th>p25</th>\n",
       "      <th>median</th>\n",
       "      <th>p75</th>\n",
       "      <th>p90</th>\n",
       "      <th>p95</th>\n",
       "      <th>p99</th>\n",
       "      <th>max</th>\n",
       "    </tr>\n",
       "    <tr>\n",
       "      <th>Column Name</th>\n",
       "      <th></th>\n",
       "      <th></th>\n",
       "      <th></th>\n",
       "      <th></th>\n",
       "      <th></th>\n",
       "      <th></th>\n",
       "      <th></th>\n",
       "      <th></th>\n",
       "      <th></th>\n",
       "      <th></th>\n",
       "      <th></th>\n",
       "      <th></th>\n",
       "      <th></th>\n",
       "      <th></th>\n",
       "      <th></th>\n",
       "      <th></th>\n",
       "      <th></th>\n",
       "      <th></th>\n",
       "      <th></th>\n",
       "      <th></th>\n",
       "      <th></th>\n",
       "      <th></th>\n",
       "      <th></th>\n",
       "      <th></th>\n",
       "    </tr>\n",
       "  </thead>\n",
       "  <tbody>\n",
       "    <tr>\n",
       "      <th>fireplaceflag</th>\n",
       "      <td>object</td>\n",
       "      <td>90462</td>\n",
       "      <td>220</td>\n",
       "      <td>220</td>\n",
       "      <td>0</td>\n",
       "      <td>0</td>\n",
       "      <td>0</td>\n",
       "      <td>0</td>\n",
       "      <td>0</td>\n",
       "      <td>2</td>\n",
       "      <td>[True]</td>\n",
       "      <td>1.00000000</td>\n",
       "      <td>0.00000000</td>\n",
       "      <td>True</td>\n",
       "      <td>1.00000000</td>\n",
       "      <td>1.00000000</td>\n",
       "      <td>1.00000000</td>\n",
       "      <td>1.00000000</td>\n",
       "      <td>1.00000000</td>\n",
       "      <td>1.00000000</td>\n",
       "      <td>1.00000000</td>\n",
       "      <td>1.00000000</td>\n",
       "      <td>1.00000000</td>\n",
       "      <td>True</td>\n",
       "    </tr>\n",
       "    <tr>\n",
       "      <th>hashottuborspa</th>\n",
       "      <td>object</td>\n",
       "      <td>88319</td>\n",
       "      <td>2363</td>\n",
       "      <td>2363</td>\n",
       "      <td>0</td>\n",
       "      <td>0</td>\n",
       "      <td>0</td>\n",
       "      <td>0</td>\n",
       "      <td>0</td>\n",
       "      <td>2</td>\n",
       "      <td>[True]</td>\n",
       "      <td>1.00000000</td>\n",
       "      <td>0.00000000</td>\n",
       "      <td>True</td>\n",
       "      <td>1.00000000</td>\n",
       "      <td>1.00000000</td>\n",
       "      <td>1.00000000</td>\n",
       "      <td>1.00000000</td>\n",
       "      <td>1.00000000</td>\n",
       "      <td>1.00000000</td>\n",
       "      <td>1.00000000</td>\n",
       "      <td>1.00000000</td>\n",
       "      <td>1.00000000</td>\n",
       "      <td>True</td>\n",
       "    </tr>\n",
       "    <tr>\n",
       "      <th>propertycountylandusecode</th>\n",
       "      <td>object</td>\n",
       "      <td>533</td>\n",
       "      <td>90149</td>\n",
       "      <td>0</td>\n",
       "      <td>0</td>\n",
       "      <td>0</td>\n",
       "      <td>90149</td>\n",
       "      <td>0</td>\n",
       "      <td>0</td>\n",
       "      <td>78</td>\n",
       "      <td>[0100]</td>\n",
       "      <td>NaN</td>\n",
       "      <td>NaN</td>\n",
       "      <td>NaN</td>\n",
       "      <td>NaN</td>\n",
       "      <td>NaN</td>\n",
       "      <td>NaN</td>\n",
       "      <td>NaN</td>\n",
       "      <td>NaN</td>\n",
       "      <td>NaN</td>\n",
       "      <td>NaN</td>\n",
       "      <td>NaN</td>\n",
       "      <td>NaN</td>\n",
       "      <td>NaN</td>\n",
       "    </tr>\n",
       "    <tr>\n",
       "      <th>propertyzoningdesc</th>\n",
       "      <td>object</td>\n",
       "      <td>32450</td>\n",
       "      <td>58232</td>\n",
       "      <td>0</td>\n",
       "      <td>0</td>\n",
       "      <td>0</td>\n",
       "      <td>58232</td>\n",
       "      <td>0</td>\n",
       "      <td>0</td>\n",
       "      <td>1997</td>\n",
       "      <td>[LAR1]</td>\n",
       "      <td>NaN</td>\n",
       "      <td>NaN</td>\n",
       "      <td>NaN</td>\n",
       "      <td>NaN</td>\n",
       "      <td>NaN</td>\n",
       "      <td>NaN</td>\n",
       "      <td>NaN</td>\n",
       "      <td>NaN</td>\n",
       "      <td>NaN</td>\n",
       "      <td>NaN</td>\n",
       "      <td>NaN</td>\n",
       "      <td>NaN</td>\n",
       "      <td>NaN</td>\n",
       "    </tr>\n",
       "    <tr>\n",
       "      <th>taxdelinquencyflag</th>\n",
       "      <td>object</td>\n",
       "      <td>88907</td>\n",
       "      <td>1775</td>\n",
       "      <td>0</td>\n",
       "      <td>0</td>\n",
       "      <td>0</td>\n",
       "      <td>1775</td>\n",
       "      <td>0</td>\n",
       "      <td>0</td>\n",
       "      <td>2</td>\n",
       "      <td>[Y]</td>\n",
       "      <td>NaN</td>\n",
       "      <td>NaN</td>\n",
       "      <td>NaN</td>\n",
       "      <td>NaN</td>\n",
       "      <td>NaN</td>\n",
       "      <td>NaN</td>\n",
       "      <td>NaN</td>\n",
       "      <td>NaN</td>\n",
       "      <td>NaN</td>\n",
       "      <td>NaN</td>\n",
       "      <td>NaN</td>\n",
       "      <td>NaN</td>\n",
       "      <td>NaN</td>\n",
       "    </tr>\n",
       "    <tr>\n",
       "      <th>transactiondate</th>\n",
       "      <td>object</td>\n",
       "      <td>0</td>\n",
       "      <td>90682</td>\n",
       "      <td>0</td>\n",
       "      <td>0</td>\n",
       "      <td>0</td>\n",
       "      <td>90682</td>\n",
       "      <td>0</td>\n",
       "      <td>0</td>\n",
       "      <td>352</td>\n",
       "      <td>[2016-04-29]</td>\n",
       "      <td>NaN</td>\n",
       "      <td>NaN</td>\n",
       "      <td>2016-01-01</td>\n",
       "      <td>NaN</td>\n",
       "      <td>NaN</td>\n",
       "      <td>NaN</td>\n",
       "      <td>NaN</td>\n",
       "      <td>NaN</td>\n",
       "      <td>NaN</td>\n",
       "      <td>NaN</td>\n",
       "      <td>NaN</td>\n",
       "      <td>NaN</td>\n",
       "      <td>2016-12-30</td>\n",
       "    </tr>\n",
       "  </tbody>\n",
       "</table>\n",
       "</div>"
      ],
      "text/plain": [
       "                          column_dtype n_missing n_non_missing n_boolean n_float n_integer n_string n_datetime n_timedelta n_unique_values          mode       mean      stdev         min         p1         p5        p10        p25     median        p75        p90        p95        p99         max\n",
       "Column Name                                                                                                                                                                                                                                                                                              \n",
       "fireplaceflag                   object     90462           220       220       0         0        0          0           0               2        [True] 1.00000000 0.00000000        True 1.00000000 1.00000000 1.00000000 1.00000000 1.00000000 1.00000000 1.00000000 1.00000000 1.00000000        True\n",
       "hashottuborspa                  object     88319          2363      2363       0         0        0          0           0               2        [True] 1.00000000 0.00000000        True 1.00000000 1.00000000 1.00000000 1.00000000 1.00000000 1.00000000 1.00000000 1.00000000 1.00000000        True\n",
       "propertycountylandusecode       object       533         90149         0       0         0    90149          0           0              78        [0100]        NaN        NaN         NaN        NaN        NaN        NaN        NaN        NaN        NaN        NaN        NaN        NaN         NaN\n",
       "propertyzoningdesc              object     32450         58232         0       0         0    58232          0           0            1997        [LAR1]        NaN        NaN         NaN        NaN        NaN        NaN        NaN        NaN        NaN        NaN        NaN        NaN         NaN\n",
       "taxdelinquencyflag              object     88907          1775         0       0         0     1775          0           0               2           [Y]        NaN        NaN         NaN        NaN        NaN        NaN        NaN        NaN        NaN        NaN        NaN        NaN         NaN\n",
       "transactiondate                 object         0         90682         0       0         0    90682          0           0             352  [2016-04-29]        NaN        NaN  2016-01-01        NaN        NaN        NaN        NaN        NaN        NaN        NaN        NaN        NaN  2016-12-30"
      ]
     },
     "execution_count": 35,
     "metadata": {},
     "output_type": "execute_result"
    }
   ],
   "source": [
    "w.query(\"column_dtype=='object'\")\n"
   ]
  },
  {
   "cell_type": "code",
   "execution_count": null,
   "metadata": {
    "collapsed": true
   },
   "outputs": [],
   "source": []
  },
  {
   "cell_type": "code",
   "execution_count": null,
   "metadata": {
    "collapsed": true
   },
   "outputs": [],
   "source": []
  },
  {
   "cell_type": "code",
   "execution_count": null,
   "metadata": {
    "collapsed": true
   },
   "outputs": [],
   "source": []
  },
  {
   "cell_type": "code",
   "execution_count": null,
   "metadata": {
    "collapsed": true
   },
   "outputs": [],
   "source": []
  }
 ],
 "metadata": {
  "kernelspec": {
   "display_name": "Python 3",
   "language": "python",
   "name": "python3"
  },
  "language_info": {
   "codemirror_mode": {
    "name": "ipython",
    "version": 3
   },
   "file_extension": ".py",
   "mimetype": "text/x-python",
   "name": "python",
   "nbconvert_exporter": "python",
   "pygments_lexer": "ipython3",
   "version": "3.6.2"
  }
 },
 "nbformat": 4,
 "nbformat_minor": 1
}
