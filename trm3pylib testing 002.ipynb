{
 "cells": [
  {
   "cell_type": "code",
   "execution_count": 2,
   "metadata": {},
   "outputs": [],
   "source": [
    "import importlib\n",
    "import codecs\n",
    "import os\n",
    "import pandas\n",
    "import numpy \n",
    "import datetime as dt\n",
    "import scipy.stats\n",
    "import pandasql.sqldf\n",
    "from IPython.core.display import display, HTML\n",
    "from IPython.core.interactiveshell import InteractiveShell\n",
    "InteractiveShell.ast_node_interactivity = \"all\"\n",
    "pandas.options.display.max_rows = 200\n",
    "pandas.options.display.max_columns = 50\n",
    "pandas.options.display.width = 300\n",
    "pandas.set_option('display.float_format', lambda x: '%.8f' % x)\n",
    "\n",
    "import trm3.impute\n",
    "import trm3.utility"
   ]
  },
  {
   "cell_type": "code",
   "execution_count": null,
   "metadata": {
    "scrolled": true
   },
   "outputs": [],
   "source": [
    "rows=3000\n",
    "letters=['a','b','c','d', numpy.NaN]\n",
    "df = pandas.DataFrame({'A' : numpy.trunc(3*numpy.random.random(rows))+1,\n",
    "                       'B' : numpy.trunc(3*numpy.random.random(rows))+1,\n",
    "                       'C' : numpy.random.random(rows),\n",
    "                       'D' : numpy.random.random(rows),\n",
    "                       'E' : numpy.random.random(rows),\n",
    "                       'F' : numpy.random.random(rows),\n",
    "                       'G' : numpy.random.random(rows),\n",
    "                       'X' : numpy.random.random(rows),\n",
    "                       'M' : numpy.NaN*numpy.random.random(rows)\n",
    "                      })\n",
    "\n",
    "df['C'] = df['C'].apply(lambda x: x if x>=.2 else numpy.NaN)\n",
    "df['D'] = df['D'].apply(lambda x: x if x>=.1 else numpy.NaN)\n",
    "df['E'] = df['E'].apply(lambda x: 1 if x>=.5 else numpy.NaN)\n",
    "df['F'] = df['F'].apply(lambda x: letters[int(5*x)])\n",
    "df['G'] = df['G'].apply(lambda x: 'ABX' if x>=.5 else numpy.NaN)\n",
    "df\n",
    "\n",
    "\n"
   ]
  },
  {
   "cell_type": "code",
   "execution_count": null,
   "metadata": {},
   "outputs": [],
   "source": [
    "map = (df[\"A\"]==1) & (df[\"B\"]==1)\n",
    "df.loc[map,\"E\"]=df.loc[map,\"E\"].fillna(value=0, inplace=False)\n",
    "df.loc[map,:]"
   ]
  },
  {
   "cell_type": "code",
   "execution_count": null,
   "metadata": {
    "scrolled": true
   },
   "outputs": [],
   "source": [
    "df.eval(\"A==1 and B==1\")"
   ]
  },
  {
   "cell_type": "code",
   "execution_count": null,
   "metadata": {
    "scrolled": true
   },
   "outputs": [],
   "source": [
    "importlib.reload(trm3.impute)    \n",
    "my_imputer = trm3.impute.Imputer(train_df = df,\n",
    "                                 test_df = None,\n",
    "                                 columns = [\"C\", \"D\", \"E\", \"F\", \"G\"],\n",
    "                                 groupby = [\"A\",\"B\"],\n",
    "                                 label = \"X\",\n",
    "                                 method = 4,\n",
    "                                 mode_fallback_distinct_values = 4,\n",
    "                                 mean_label_min_obs = .02,\n",
    "                                 mean_label_bins = 10,\n",
    "                                 nominal_new_category_min_obs = .005,\n",
    "                                 missing_indicators = False,\n",
    "                                 missing_indicators_min_obs = .005,\n",
    "                                 model_x_columns = None                          \n",
    "                                )\n",
    "\n",
    "my_imputer_rules = my_imputer.fit()\n",
    "my_imputer_rules.impute(impute_df=df, inplace=False)"
   ]
  },
  {
   "cell_type": "code",
   "execution_count": null,
   "metadata": {
    "scrolled": true
   },
   "outputs": [],
   "source": [
    "my_imputer_rules.rules_list[2][3]\n"
   ]
  },
  {
   "cell_type": "code",
   "execution_count": null,
   "metadata": {
    "collapsed": true
   },
   "outputs": [],
   "source": [
    "from collections import namedtuple\n",
    "Point = namedtuple('Point', 'x y')\n",
    "pt1 = Point(1.0, 5.0)\n",
    "pt2 = Point(2.5, 1.5)\n",
    "w = pt1._asdict()\n",
    "w['x']"
   ]
  },
  {
   "cell_type": "code",
   "execution_count": null,
   "metadata": {
    "collapsed": true
   },
   "outputs": [],
   "source": [
    "q='''select A, B, F, sum(case when F is not null then 1 else 0 end) as nobs\n",
    "from df\n",
    "group by A, B, F\n",
    "order by A, B, nobs desc\n",
    "  '''\n",
    "\n",
    "pandasql.sqldf(q).groupby([\"A\", \"B\"])[\"F\"].first()\n"
   ]
  },
  {
   "cell_type": "code",
   "execution_count": null,
   "metadata": {
    "collapsed": true
   },
   "outputs": [],
   "source": [
    "df.dtypes"
   ]
  },
  {
   "cell_type": "code",
   "execution_count": null,
   "metadata": {
    "collapsed": true,
    "scrolled": false
   },
   "outputs": [],
   "source": [
    "tdf.groupby([gbcolumns])[col]. \\\n",
    "                    transform(lambda x: pandas.qcut(x, self.__mean_label_bins, labels=False, duplicates=\"drop\")).astype('float64')"
   ]
  },
  {
   "cell_type": "code",
   "execution_count": null,
   "metadata": {
    "collapsed": true
   },
   "outputs": [],
   "source": [
    "x = {\"A\": 1,\n",
    "     \"B\": 2,\n",
    "     \"C\": 3,\n",
    "     \"D\": 4}\n",
    "\n",
    "print(x)"
   ]
  },
  {
   "cell_type": "code",
   "execution_count": null,
   "metadata": {
    "collapsed": true
   },
   "outputs": [],
   "source": [
    "for key in x:\n",
    "    print(key + \" - \" + str(x[key]) + \"\\n\")"
   ]
  },
  {
   "cell_type": "code",
   "execution_count": 7,
   "metadata": {},
   "outputs": [
    {
     "data": {
      "text/plain": [
       "1"
      ]
     },
     "execution_count": 7,
     "metadata": {},
     "output_type": "execute_result"
    },
    {
     "data": {
      "text/plain": [
       "'Byte'"
      ]
     },
     "execution_count": 7,
     "metadata": {},
     "output_type": "execute_result"
    }
   ],
   "source": [
    "class unit:\n",
    "    class byte:\n",
    "        bytes=1\n",
    "        name='Byte'\n",
    "        abbreviation='B'\n",
    "    \n",
    "unit.byte.bytes   \n",
    "unit.byte.name\n",
    "\n"
   ]
  },
  {
   "cell_type": "code",
   "execution_count": null,
   "metadata": {
    "collapsed": true
   },
   "outputs": [],
   "source": [
    "print(str([\"parameter\",\"Message explaining the error which can be long in some cases\"]))"
   ]
  },
  {
   "cell_type": "code",
   "execution_count": null,
   "metadata": {
    "collapsed": true,
    "scrolled": true
   },
   "outputs": [],
   "source": [
    "code += x_indent(2) + x_and(cond, line) + \"x['\" + gbcol + \"'] == \" + x_val(_groupby_values[i][gc])"
   ]
  },
  {
   "cell_type": "code",
   "execution_count": null,
   "metadata": {
    "collapsed": true
   },
   "outputs": [],
   "source": [
    "def x_and(condition, code_line) -> str:\n",
    "    if condition > 1:\n",
    "        return \"and \"\n",
    "    elif code_line == 1:\n",
    "        return \"if \"\n",
    "    else:\n",
    "        return \"elif \"\n",
    "\n",
    "def x_val(x) -> str:\n",
    "    if type(x) == str:\n",
    "        return \"'\" + x + \"'\"\n",
    "    else:\n",
    "        return str(x)\n",
    "\n",
    "def x_indent(n):\n",
    "    return \" \" * n * 4"
   ]
  },
  {
   "cell_type": "code",
   "execution_count": null,
   "metadata": {
    "collapsed": true
   },
   "outputs": [],
   "source": [
    "code = '''\n",
    "def impute_calc(x):\n",
    "    if type(x['C']) == numpy.NaN:\n",
    "        if x['A'] == 1.0 and x['B'] == 1.0:\n",
    "            return 0.729783375567\n",
    "        elif x['A'] == 1.0 and x['B'] == 1.0:\n",
    "            return 0.729783375567\n",
    "        elif x['A'] == 1.0 and x['B'] == 2.0:\n",
    "            return 0.577250026067\n",
    "        elif x['A'] == 1.0 and x['B'] == 3.0:\n",
    "            return 0.585054851176\n",
    "        elif x['A'] == 2.0 and x['B'] == 1.0:\n",
    "            return 0.595745017994\n",
    "        elif x['A'] == 2.0 and x['B'] == 2.0:\n",
    "            return 0.580186070545\n",
    "        elif x['A'] == 2.0 and x['B'] == 3.0:\n",
    "            return 0.584361868687\n",
    "        elif x['A'] == 3.0 and x['B'] == 1.0:\n",
    "            return 0.586579718828\n",
    "        elif x['A'] == 3.0 and x['B'] == 2.0:\n",
    "            return 0.592148803494\n",
    "        elif x['A'] == 3.0 and x['B'] == 3.0:\n",
    "            return 0.588026309637\n",
    "        else:\n",
    "            return 0.614602717576\n",
    "    else:\n",
    "        return x['C']\n",
    "        '''\n",
    "exec(code)\n",
    "z = df.apply(impute_calc, axis=1)\n",
    "z"
   ]
  },
  {
   "cell_type": "code",
   "execution_count": null,
   "metadata": {},
   "outputs": [],
   "source": [
    "a = [[1,2],[3,4]]\n",
    "for x, y in a:\n",
    "    print(str(x) + \" - \" + str(y))\n"
   ]
  },
  {
   "cell_type": "code",
   "execution_count": null,
   "metadata": {
    "collapsed": true
   },
   "outputs": [],
   "source": [
    "if pandas.isnull(z[5]):\n",
    "    print(\"True\")"
   ]
  },
  {
   "cell_type": "code",
   "execution_count": null,
   "metadata": {},
   "outputs": [],
   "source": [
    "q = \"Number %s is not the same as\" % 1\n",
    "q"
   ]
  },
  {
   "cell_type": "code",
   "execution_count": null,
   "metadata": {
    "collapsed": true
   },
   "outputs": [],
   "source": []
  }
 ],
 "metadata": {
  "kernelspec": {
   "display_name": "Python 3",
   "language": "python",
   "name": "python3"
  },
  "language_info": {
   "codemirror_mode": {
    "name": "ipython",
    "version": 3
   },
   "file_extension": ".py",
   "mimetype": "text/x-python",
   "name": "python",
   "nbconvert_exporter": "python",
   "pygments_lexer": "ipython3",
   "version": "3.6.2"
  }
 },
 "nbformat": 4,
 "nbformat_minor": 2
}
